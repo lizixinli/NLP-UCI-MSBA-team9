{
 "cells": [
  {
   "cell_type": "markdown",
   "metadata": {},
   "source": [
    "# Part I: No date shifting, pure prediction based on sentiment score, LR + Forest"
   ]
  },
  {
   "cell_type": "code",
   "execution_count": 3,
   "metadata": {},
   "outputs": [],
   "source": [
    "import pandas as pd\n",
    "import numpy as np"
   ]
  },
  {
   "cell_type": "code",
   "execution_count": 4,
   "metadata": {},
   "outputs": [],
   "source": [
    "from sklearn import *"
   ]
  },
  {
   "cell_type": "code",
   "execution_count": 350,
   "metadata": {},
   "outputs": [],
   "source": [
    "df = pd.read_csv('News_sentiment.csv')"
   ]
  },
  {
   "cell_type": "code",
   "execution_count": 349,
   "metadata": {},
   "outputs": [
    {
     "data": {
      "text/html": [
       "<div>\n",
       "<style scoped>\n",
       "    .dataframe tbody tr th:only-of-type {\n",
       "        vertical-align: middle;\n",
       "    }\n",
       "\n",
       "    .dataframe tbody tr th {\n",
       "        vertical-align: top;\n",
       "    }\n",
       "\n",
       "    .dataframe thead th {\n",
       "        text-align: right;\n",
       "    }\n",
       "</style>\n",
       "<table border=\"1\" class=\"dataframe\">\n",
       "  <thead>\n",
       "    <tr style=\"text-align: right;\">\n",
       "      <th></th>\n",
       "      <th>Unnamed: 0</th>\n",
       "      <th>Date</th>\n",
       "      <th>Label</th>\n",
       "      <th>Top1</th>\n",
       "      <th>Top2</th>\n",
       "      <th>Top3</th>\n",
       "      <th>Top4</th>\n",
       "      <th>Top5</th>\n",
       "      <th>Top6</th>\n",
       "      <th>Top7</th>\n",
       "      <th>...</th>\n",
       "      <th>Top24_comp</th>\n",
       "      <th>Top24_tb</th>\n",
       "      <th>Top24tb_polarity</th>\n",
       "      <th>Top24sia_pos</th>\n",
       "      <th>Top24sia_neg</th>\n",
       "      <th>Top25_comp</th>\n",
       "      <th>Top25_tb</th>\n",
       "      <th>Top25tb_polarity</th>\n",
       "      <th>Top25sia_pos</th>\n",
       "      <th>Top25sia_neg</th>\n",
       "    </tr>\n",
       "  </thead>\n",
       "  <tbody>\n",
       "    <tr>\n",
       "      <th>0</th>\n",
       "      <td>0</td>\n",
       "      <td>2008-08-08</td>\n",
       "      <td>0</td>\n",
       "      <td>Georgia 'downs two Russian warplanes' as count...</td>\n",
       "      <td>BREAKING: Musharraf to be impeached.'</td>\n",
       "      <td>Russia Today: Columns of troops roll into Sout...</td>\n",
       "      <td>Russian tanks are moving towards the capital o...</td>\n",
       "      <td>Afghan children raped with 'impunity,' U.N. of...</td>\n",
       "      <td>150 Russian tanks have entered South Ossetia w...</td>\n",
       "      <td>Breaking: Georgia invades South Ossetia, Russi...</td>\n",
       "      <td>...</td>\n",
       "      <td>-0.8519</td>\n",
       "      <td>0.200000</td>\n",
       "      <td>-0.100000</td>\n",
       "      <td>0.000</td>\n",
       "      <td>0.650</td>\n",
       "      <td>-0.3089</td>\n",
       "      <td>0.0</td>\n",
       "      <td>0.0</td>\n",
       "      <td>0.00</td>\n",
       "      <td>0.311</td>\n",
       "    </tr>\n",
       "    <tr>\n",
       "      <th>1</th>\n",
       "      <td>1</td>\n",
       "      <td>2008-08-11</td>\n",
       "      <td>1</td>\n",
       "      <td>Why wont America and Nato help us? If they won...</td>\n",
       "      <td>Bush puts foot down on Georgian conflict'</td>\n",
       "      <td>Jewish Georgian minister: Thanks to Israeli tr...</td>\n",
       "      <td>Georgian army flees in disarray as Russians ad...</td>\n",
       "      <td>Olympic opening ceremony fireworks 'faked'\"</td>\n",
       "      <td>What were the Mossad with fraudulent New Zeala...</td>\n",
       "      <td>Russia angered by Israeli military sale to Geo...</td>\n",
       "      <td>...</td>\n",
       "      <td>-0.1832</td>\n",
       "      <td>0.500000</td>\n",
       "      <td>0.500000</td>\n",
       "      <td>0.263</td>\n",
       "      <td>0.323</td>\n",
       "      <td>0.0000</td>\n",
       "      <td>0.0</td>\n",
       "      <td>0.0</td>\n",
       "      <td>0.00</td>\n",
       "      <td>0.000</td>\n",
       "    </tr>\n",
       "    <tr>\n",
       "      <th>2</th>\n",
       "      <td>2</td>\n",
       "      <td>2008-08-12</td>\n",
       "      <td>0</td>\n",
       "      <td>Remember that adorable 9-year-old who sang at ...</td>\n",
       "      <td>Russia 'ends Georgia operation'\"</td>\n",
       "      <td>\"If we had no sexual harassment we would have ...</td>\n",
       "      <td>Al-Qa'eda is losing support in Iraq because of...</td>\n",
       "      <td>Ceasefire in Georgia: Putin Outmaneuvers the W...</td>\n",
       "      <td>Why Microsoft and Intel tried to kill the XO $...</td>\n",
       "      <td>Stratfor: The Russo-Georgian War and the Balan...</td>\n",
       "      <td>...</td>\n",
       "      <td>0.0000</td>\n",
       "      <td>0.454545</td>\n",
       "      <td>0.136364</td>\n",
       "      <td>0.000</td>\n",
       "      <td>0.000</td>\n",
       "      <td>0.0000</td>\n",
       "      <td>0.0</td>\n",
       "      <td>0.0</td>\n",
       "      <td>0.00</td>\n",
       "      <td>0.000</td>\n",
       "    </tr>\n",
       "    <tr>\n",
       "      <th>3</th>\n",
       "      <td>3</td>\n",
       "      <td>2008-08-13</td>\n",
       "      <td>0</td>\n",
       "      <td>U.S. refuses Israel weapons to attack Iran: r...</td>\n",
       "      <td>When the president ordered to attack Tskhinval...</td>\n",
       "      <td>Israel clears troops who killed Reuters camer...</td>\n",
       "      <td>Britain\\'s policy of being tough on drugs is \"...</td>\n",
       "      <td>Body of 14 year old found in trunk; Latest (ra...</td>\n",
       "      <td>China has moved 10 *million* quake survivors i...</td>\n",
       "      <td>Bush announces Operation Get All Up In Russia'...</td>\n",
       "      <td>...</td>\n",
       "      <td>-0.4215</td>\n",
       "      <td>0.100000</td>\n",
       "      <td>-0.100000</td>\n",
       "      <td>0.000</td>\n",
       "      <td>0.167</td>\n",
       "      <td>-0.3400</td>\n",
       "      <td>0.0</td>\n",
       "      <td>0.0</td>\n",
       "      <td>0.00</td>\n",
       "      <td>0.194</td>\n",
       "    </tr>\n",
       "    <tr>\n",
       "      <th>4</th>\n",
       "      <td>4</td>\n",
       "      <td>2008-08-14</td>\n",
       "      <td>1</td>\n",
       "      <td>All the experts admit that we should legalise ...</td>\n",
       "      <td>War in South Osetia - 89 pictures made by a Ru...</td>\n",
       "      <td>Swedish wrestler Ara Abrahamian throws away me...</td>\n",
       "      <td>Russia exaggerated the death toll in South Oss...</td>\n",
       "      <td>Missile That Killed 9 Inside Pakistan May Have...</td>\n",
       "      <td>Rushdie Condemns Random House's Refusal to Pub...</td>\n",
       "      <td>Poland and US agree to missle defense deal. In...</td>\n",
       "      <td>...</td>\n",
       "      <td>-0.7178</td>\n",
       "      <td>0.500000</td>\n",
       "      <td>0.062500</td>\n",
       "      <td>0.000</td>\n",
       "      <td>0.583</td>\n",
       "      <td>0.7096</td>\n",
       "      <td>0.0</td>\n",
       "      <td>0.0</td>\n",
       "      <td>0.33</td>\n",
       "      <td>0.000</td>\n",
       "    </tr>\n",
       "  </tbody>\n",
       "</table>\n",
       "<p>5 rows × 153 columns</p>\n",
       "</div>"
      ],
      "text/plain": [
       "   Unnamed: 0        Date  Label  \\\n",
       "0           0  2008-08-08      0   \n",
       "1           1  2008-08-11      1   \n",
       "2           2  2008-08-12      0   \n",
       "3           3  2008-08-13      0   \n",
       "4           4  2008-08-14      1   \n",
       "\n",
       "                                                Top1  \\\n",
       "0  Georgia 'downs two Russian warplanes' as count...   \n",
       "1  Why wont America and Nato help us? If they won...   \n",
       "2  Remember that adorable 9-year-old who sang at ...   \n",
       "3   U.S. refuses Israel weapons to attack Iran: r...   \n",
       "4  All the experts admit that we should legalise ...   \n",
       "\n",
       "                                                Top2  \\\n",
       "0              BREAKING: Musharraf to be impeached.'   \n",
       "1          Bush puts foot down on Georgian conflict'   \n",
       "2                   Russia 'ends Georgia operation'\"   \n",
       "3  When the president ordered to attack Tskhinval...   \n",
       "4  War in South Osetia - 89 pictures made by a Ru...   \n",
       "\n",
       "                                                Top3  \\\n",
       "0  Russia Today: Columns of troops roll into Sout...   \n",
       "1  Jewish Georgian minister: Thanks to Israeli tr...   \n",
       "2  \"If we had no sexual harassment we would have ...   \n",
       "3   Israel clears troops who killed Reuters camer...   \n",
       "4  Swedish wrestler Ara Abrahamian throws away me...   \n",
       "\n",
       "                                                Top4  \\\n",
       "0  Russian tanks are moving towards the capital o...   \n",
       "1  Georgian army flees in disarray as Russians ad...   \n",
       "2  Al-Qa'eda is losing support in Iraq because of...   \n",
       "3  Britain\\'s policy of being tough on drugs is \"...   \n",
       "4  Russia exaggerated the death toll in South Oss...   \n",
       "\n",
       "                                                Top5  \\\n",
       "0  Afghan children raped with 'impunity,' U.N. of...   \n",
       "1        Olympic opening ceremony fireworks 'faked'\"   \n",
       "2  Ceasefire in Georgia: Putin Outmaneuvers the W...   \n",
       "3  Body of 14 year old found in trunk; Latest (ra...   \n",
       "4  Missile That Killed 9 Inside Pakistan May Have...   \n",
       "\n",
       "                                                Top6  \\\n",
       "0  150 Russian tanks have entered South Ossetia w...   \n",
       "1  What were the Mossad with fraudulent New Zeala...   \n",
       "2  Why Microsoft and Intel tried to kill the XO $...   \n",
       "3  China has moved 10 *million* quake survivors i...   \n",
       "4  Rushdie Condemns Random House's Refusal to Pub...   \n",
       "\n",
       "                                                Top7  ... Top24_comp  \\\n",
       "0  Breaking: Georgia invades South Ossetia, Russi...  ...    -0.8519   \n",
       "1  Russia angered by Israeli military sale to Geo...  ...    -0.1832   \n",
       "2  Stratfor: The Russo-Georgian War and the Balan...  ...     0.0000   \n",
       "3  Bush announces Operation Get All Up In Russia'...  ...    -0.4215   \n",
       "4  Poland and US agree to missle defense deal. In...  ...    -0.7178   \n",
       "\n",
       "   Top24_tb Top24tb_polarity Top24sia_pos Top24sia_neg Top25_comp Top25_tb  \\\n",
       "0  0.200000        -0.100000        0.000        0.650    -0.3089      0.0   \n",
       "1  0.500000         0.500000        0.263        0.323     0.0000      0.0   \n",
       "2  0.454545         0.136364        0.000        0.000     0.0000      0.0   \n",
       "3  0.100000        -0.100000        0.000        0.167    -0.3400      0.0   \n",
       "4  0.500000         0.062500        0.000        0.583     0.7096      0.0   \n",
       "\n",
       "  Top25tb_polarity Top25sia_pos Top25sia_neg  \n",
       "0              0.0         0.00        0.311  \n",
       "1              0.0         0.00        0.000  \n",
       "2              0.0         0.00        0.000  \n",
       "3              0.0         0.00        0.194  \n",
       "4              0.0         0.33        0.000  \n",
       "\n",
       "[5 rows x 153 columns]"
      ]
     },
     "execution_count": 349,
     "metadata": {},
     "output_type": "execute_result"
    }
   ],
   "source": [
    "dfliz = pd.read_csv('Full_sentiment.csv')\n",
    "dfliz.head()"
   ]
  },
  {
   "cell_type": "code",
   "execution_count": 367,
   "metadata": {},
   "outputs": [
    {
     "data": {
      "text/html": [
       "<div>\n",
       "<style scoped>\n",
       "    .dataframe tbody tr th:only-of-type {\n",
       "        vertical-align: middle;\n",
       "    }\n",
       "\n",
       "    .dataframe tbody tr th {\n",
       "        vertical-align: top;\n",
       "    }\n",
       "\n",
       "    .dataframe thead th {\n",
       "        text-align: right;\n",
       "    }\n",
       "</style>\n",
       "<table border=\"1\" class=\"dataframe\">\n",
       "  <thead>\n",
       "    <tr style=\"text-align: right;\">\n",
       "      <th></th>\n",
       "      <th>Label</th>\n",
       "      <th>tb_polarity</th>\n",
       "      <th>tb_subjectivity</th>\n",
       "      <th>vader_pos</th>\n",
       "      <th>vader_neg</th>\n",
       "      <th>vader_comp</th>\n",
       "    </tr>\n",
       "  </thead>\n",
       "  <tbody>\n",
       "    <tr>\n",
       "      <th>0</th>\n",
       "      <td>0</td>\n",
       "      <td>-0.048568</td>\n",
       "      <td>0.267549</td>\n",
       "      <td>0.062</td>\n",
       "      <td>0.214</td>\n",
       "      <td>-0.9966</td>\n",
       "    </tr>\n",
       "    <tr>\n",
       "      <th>1</th>\n",
       "      <td>1</td>\n",
       "      <td>0.121956</td>\n",
       "      <td>0.374806</td>\n",
       "      <td>0.092</td>\n",
       "      <td>0.135</td>\n",
       "      <td>-0.9075</td>\n",
       "    </tr>\n",
       "    <tr>\n",
       "      <th>2</th>\n",
       "      <td>0</td>\n",
       "      <td>-0.046530</td>\n",
       "      <td>0.518785</td>\n",
       "      <td>0.056</td>\n",
       "      <td>0.139</td>\n",
       "      <td>-0.9739</td>\n",
       "    </tr>\n",
       "    <tr>\n",
       "      <th>3</th>\n",
       "      <td>0</td>\n",
       "      <td>0.011398</td>\n",
       "      <td>0.364021</td>\n",
       "      <td>0.048</td>\n",
       "      <td>0.146</td>\n",
       "      <td>-0.9842</td>\n",
       "    </tr>\n",
       "    <tr>\n",
       "      <th>4</th>\n",
       "      <td>1</td>\n",
       "      <td>0.040677</td>\n",
       "      <td>0.375099</td>\n",
       "      <td>0.093</td>\n",
       "      <td>0.174</td>\n",
       "      <td>-0.9774</td>\n",
       "    </tr>\n",
       "    <tr>\n",
       "      <th>...</th>\n",
       "      <td>...</td>\n",
       "      <td>...</td>\n",
       "      <td>...</td>\n",
       "      <td>...</td>\n",
       "      <td>...</td>\n",
       "      <td>...</td>\n",
       "    </tr>\n",
       "    <tr>\n",
       "      <th>1984</th>\n",
       "      <td>0</td>\n",
       "      <td>-0.030183</td>\n",
       "      <td>0.358892</td>\n",
       "      <td>0.090</td>\n",
       "      <td>0.151</td>\n",
       "      <td>-0.9683</td>\n",
       "    </tr>\n",
       "    <tr>\n",
       "      <th>1985</th>\n",
       "      <td>1</td>\n",
       "      <td>0.047618</td>\n",
       "      <td>0.360663</td>\n",
       "      <td>0.100</td>\n",
       "      <td>0.137</td>\n",
       "      <td>-0.9633</td>\n",
       "    </tr>\n",
       "    <tr>\n",
       "      <th>1986</th>\n",
       "      <td>1</td>\n",
       "      <td>0.046901</td>\n",
       "      <td>0.406462</td>\n",
       "      <td>0.076</td>\n",
       "      <td>0.209</td>\n",
       "      <td>-0.9968</td>\n",
       "    </tr>\n",
       "    <tr>\n",
       "      <th>1987</th>\n",
       "      <td>1</td>\n",
       "      <td>-0.005811</td>\n",
       "      <td>0.392035</td>\n",
       "      <td>0.053</td>\n",
       "      <td>0.211</td>\n",
       "      <td>-0.9978</td>\n",
       "    </tr>\n",
       "    <tr>\n",
       "      <th>1988</th>\n",
       "      <td>1</td>\n",
       "      <td>-0.036532</td>\n",
       "      <td>0.329966</td>\n",
       "      <td>0.060</td>\n",
       "      <td>0.211</td>\n",
       "      <td>-0.9980</td>\n",
       "    </tr>\n",
       "  </tbody>\n",
       "</table>\n",
       "<p>1989 rows × 6 columns</p>\n",
       "</div>"
      ],
      "text/plain": [
       "      Label  tb_polarity  tb_subjectivity  vader_pos  vader_neg  vader_comp\n",
       "0         0    -0.048568         0.267549      0.062      0.214     -0.9966\n",
       "1         1     0.121956         0.374806      0.092      0.135     -0.9075\n",
       "2         0    -0.046530         0.518785      0.056      0.139     -0.9739\n",
       "3         0     0.011398         0.364021      0.048      0.146     -0.9842\n",
       "4         1     0.040677         0.375099      0.093      0.174     -0.9774\n",
       "...     ...          ...              ...        ...        ...         ...\n",
       "1984      0    -0.030183         0.358892      0.090      0.151     -0.9683\n",
       "1985      1     0.047618         0.360663      0.100      0.137     -0.9633\n",
       "1986      1     0.046901         0.406462      0.076      0.209     -0.9968\n",
       "1987      1    -0.005811         0.392035      0.053      0.211     -0.9978\n",
       "1988      1    -0.036532         0.329966      0.060      0.211     -0.9980\n",
       "\n",
       "[1989 rows x 6 columns]"
      ]
     },
     "execution_count": 367,
     "metadata": {},
     "output_type": "execute_result"
    }
   ],
   "source": [
    "df"
   ]
  },
  {
   "cell_type": "code",
   "execution_count": 351,
   "metadata": {},
   "outputs": [],
   "source": [
    "droplist = ['Top'+ str(i) for i in range(1,26)]\n",
    "    "
   ]
  },
  {
   "cell_type": "code",
   "execution_count": 352,
   "metadata": {},
   "outputs": [],
   "source": [
    "df = df.drop(droplist, axis = 1)"
   ]
  },
  {
   "cell_type": "code",
   "execution_count": 353,
   "metadata": {},
   "outputs": [],
   "source": [
    "df = df.drop(['Date', 'Combined'], axis =1)"
   ]
  },
  {
   "cell_type": "code",
   "execution_count": 354,
   "metadata": {},
   "outputs": [
    {
     "data": {
      "text/plain": [
       "1    1065\n",
       "0     924\n",
       "Name: Label, dtype: int64"
      ]
     },
     "execution_count": 354,
     "metadata": {},
     "output_type": "execute_result"
    }
   ],
   "source": [
    "df['Label'].value_counts()"
   ]
  },
  {
   "cell_type": "code",
   "execution_count": 355,
   "metadata": {},
   "outputs": [],
   "source": [
    "X = df[['tb_polarity', 'vader_pos', 'vader_neg', 'tb_subjectivity']]\n",
    "y = df['Label']"
   ]
  },
  {
   "cell_type": "code",
   "execution_count": 356,
   "metadata": {},
   "outputs": [],
   "source": [
    "from sklearn.model_selection import train_test_split\n",
    "X_train,X_test, y_train, y_test = train_test_split(X, y, test_size=0.3, random_state=5) #42"
   ]
  },
  {
   "cell_type": "code",
   "execution_count": 357,
   "metadata": {},
   "outputs": [],
   "source": [
    "#Forest\n",
    "from sklearn.ensemble import RandomForestClassifier\n",
    "forest = RandomForestClassifier()"
   ]
  },
  {
   "cell_type": "code",
   "execution_count": 358,
   "metadata": {},
   "outputs": [
    {
     "data": {
      "text/plain": [
       "array([0.5680396 , 0.49230841, 0.52596262])"
      ]
     },
     "execution_count": 358,
     "metadata": {},
     "output_type": "execute_result"
    }
   ],
   "source": [
    "from sklearn.model_selection import cross_val_score\n",
    "cross_val_score(forest, X_train, y_train, cv=3, scoring=\"roc_auc\")"
   ]
  },
  {
   "cell_type": "code",
   "execution_count": 368,
   "metadata": {},
   "outputs": [],
   "source": [
    "model1 = forest.fit(X_train,y_train)"
   ]
  },
  {
   "cell_type": "code",
   "execution_count": 369,
   "metadata": {},
   "outputs": [
    {
     "data": {
      "text/plain": [
       "array([[108, 173],\n",
       "       [126, 190]], dtype=int64)"
      ]
     },
     "execution_count": 369,
     "metadata": {},
     "output_type": "execute_result"
    }
   ],
   "source": [
    "from sklearn.metrics import confusion_matrix\n",
    "pred_y = model1.predict(X_test)\n",
    "conf_mx = confusion_matrix(y_test, pred_y)\n",
    "conf_mx"
   ]
  },
  {
   "cell_type": "code",
   "execution_count": 370,
   "metadata": {},
   "outputs": [],
   "source": [
    "import joblib\n",
    "import pandas\n",
    "from sklearn.metrics import accuracy_score, precision_score, recall_score, f1_score, roc_auc_score\n",
    "from time import time\n",
    "from time import time\n",
    "def evaluate_model(name, model, features, labels):\n",
    "    start = time()\n",
    "    pred = model.predict(features)\n",
    "    end = time()\n",
    "    accuracy = round(accuracy_score(labels,pred),3)\n",
    "    precision = round(precision_score(labels,pred),3)\n",
    "    recall = round(recall_score(labels,pred),3)\n",
    "    f1 = round(f1_score(labels,pred),3)\n",
    "    roc = round(roc_auc_score(labels,pred),3)\n",
    "    print('{} -- Accuracy:{} / Precision:{} / Recall:{} / F1:{} / ROC:{} / Latency:{}ms'.format(name, accuracy, precision, recall,f1,roc ,round(end-start)))"
   ]
  },
  {
   "cell_type": "code",
   "execution_count": 371,
   "metadata": {},
   "outputs": [
    {
     "name": "stdout",
     "output_type": "stream",
     "text": [
      "Forest -- Accuracy:0.499 / Precision:0.523 / Recall:0.601 / F1:0.56 / ROC:0.493 / Latency:0ms\n"
     ]
    }
   ],
   "source": [
    "evaluate_model('Forest', model1, X_test, y_test)"
   ]
  },
  {
   "cell_type": "code",
   "execution_count": 378,
   "metadata": {},
   "outputs": [
    {
     "ename": "ValueError",
     "evalue": "tuple should be a binary classifier",
     "output_type": "error",
     "traceback": [
      "\u001b[1;31m---------------------------------------------------------------------------\u001b[0m",
      "\u001b[1;31mValueError\u001b[0m                                Traceback (most recent call last)",
      "\u001b[1;32m<ipython-input-378-7f94c7efa91f>\u001b[0m in \u001b[0;36m<module>\u001b[1;34m\u001b[0m\n\u001b[0;32m      1\u001b[0m \u001b[1;32mfrom\u001b[0m \u001b[0msklearn\u001b[0m\u001b[1;33m.\u001b[0m\u001b[0mmetrics\u001b[0m \u001b[1;32mimport\u001b[0m \u001b[0mplot_roc_curve\u001b[0m\u001b[1;33m\u001b[0m\u001b[1;33m\u001b[0m\u001b[0m\n\u001b[0;32m      2\u001b[0m \u001b[1;33m\u001b[0m\u001b[0m\n\u001b[1;32m----> 3\u001b[1;33m \u001b[0mforest_roc\u001b[0m \u001b[1;33m=\u001b[0m \u001b[0mplot_roc_curve\u001b[0m\u001b[1;33m(\u001b[0m\u001b[1;33m(\u001b[0m\u001b[0mmodel1\u001b[0m\u001b[1;33m,\u001b[0m \u001b[0mmodel7\u001b[0m\u001b[1;33m)\u001b[0m\u001b[1;33m,\u001b[0m \u001b[0mX_test\u001b[0m\u001b[1;33m,\u001b[0m \u001b[0my_test\u001b[0m\u001b[1;33m)\u001b[0m\u001b[1;33m\u001b[0m\u001b[1;33m\u001b[0m\u001b[0m\n\u001b[0m\u001b[0;32m      4\u001b[0m \u001b[0mplt\u001b[0m\u001b[1;33m.\u001b[0m\u001b[0mshow\u001b[0m\u001b[1;33m(\u001b[0m\u001b[1;33m)\u001b[0m\u001b[1;33m\u001b[0m\u001b[1;33m\u001b[0m\u001b[0m\n",
      "\u001b[1;32m~\\Anaconda3\\lib\\site-packages\\sklearn\\metrics\\_plot\\roc_curve.py\u001b[0m in \u001b[0;36mplot_roc_curve\u001b[1;34m(estimator, X, y, sample_weight, drop_intermediate, response_method, name, ax, **kwargs)\u001b[0m\n\u001b[0;32m    170\u001b[0m     )\n\u001b[0;32m    171\u001b[0m     \u001b[1;32mif\u001b[0m \u001b[1;32mnot\u001b[0m \u001b[0mis_classifier\u001b[0m\u001b[1;33m(\u001b[0m\u001b[0mestimator\u001b[0m\u001b[1;33m)\u001b[0m\u001b[1;33m:\u001b[0m\u001b[1;33m\u001b[0m\u001b[1;33m\u001b[0m\u001b[0m\n\u001b[1;32m--> 172\u001b[1;33m         \u001b[1;32mraise\u001b[0m \u001b[0mValueError\u001b[0m\u001b[1;33m(\u001b[0m\u001b[0mclassification_error\u001b[0m\u001b[1;33m)\u001b[0m\u001b[1;33m\u001b[0m\u001b[1;33m\u001b[0m\u001b[0m\n\u001b[0m\u001b[0;32m    173\u001b[0m \u001b[1;33m\u001b[0m\u001b[0m\n\u001b[0;32m    174\u001b[0m     prediction_method = _check_classifer_response_method(estimator,\n",
      "\u001b[1;31mValueError\u001b[0m: tuple should be a binary classifier"
     ]
    }
   ],
   "source": [
    "from sklearn.metrics import plot_roc_curve\n",
    "\n",
    "forest_roc = plot_roc_curve((model1, model7), X_test, y_test)\n",
    "plt.show()"
   ]
  },
  {
   "cell_type": "code",
   "execution_count": 380,
   "metadata": {},
   "outputs": [
    {
     "data": {
      "image/png": "[encoded data removed]",
      "text/plain": [
       "<Figure size 432x288 with 1 Axes>"
      ]
     },
     "metadata": {
      "needs_background": "light"
     },
     "output_type": "display_data"
    }
   ],
   "source": [
    "svc_disp = plot_roc_curve(model1, X_test, y_test)\n",
    "rfc_disp = plot_roc_curve(model7, X_test3, y_test3, ax=svc_disp.ax_)\n",
    "rfc_disp.figure_.suptitle(\"improvement curve comparison\")\n",
    "\n",
    "plt.show()"
   ]
  },
  {
   "cell_type": "code",
   "execution_count": 121,
   "metadata": {},
   "outputs": [],
   "source": [
    "#Logistic\n",
    "from sklearn.linear_model import LogisticRegression\n",
    "LR = LogisticRegression()"
   ]
  },
  {
   "cell_type": "code",
   "execution_count": 124,
   "metadata": {},
   "outputs": [
    {
     "data": {
      "text/plain": [
       "array([0.47835995, 0.47059813, 0.47842991])"
      ]
     },
     "execution_count": 124,
     "metadata": {},
     "output_type": "execute_result"
    }
   ],
   "source": [
    "cross_val_score(LR, X_train, y_train, cv=3, scoring=\"roc_auc\")"
   ]
  },
  {
   "cell_type": "code",
   "execution_count": 125,
   "metadata": {},
   "outputs": [],
   "source": [
    "from sklearn.linear_model import LogisticRegression\n",
    "LR = LogisticRegression()\n",
    "model2 = LR.fit(X_train,y_train)"
   ]
  },
  {
   "cell_type": "code",
   "execution_count": 126,
   "metadata": {},
   "outputs": [
    {
     "data": {
      "text/plain": [
       "array([[  0, 281],\n",
       "       [  1, 315]], dtype=int64)"
      ]
     },
     "execution_count": 126,
     "metadata": {},
     "output_type": "execute_result"
    }
   ],
   "source": [
    "from sklearn.linear_model import LogisticRegression\n",
    "LR = LogisticRegression()\n",
    "model2 = LR.fit(X_train,y_train)\n",
    "from sklearn.metrics import confusion_matrix\n",
    "pred_y = model2.predict(X_test)\n",
    "conf_mxLR = confusion_matrix(y_test, pred_y)\n",
    "conf_mxLR"
   ]
  },
  {
   "cell_type": "code",
   "execution_count": 127,
   "metadata": {},
   "outputs": [
    {
     "name": "stdout",
     "output_type": "stream",
     "text": [
      "Logstic -- Accuracy:0.528 / Precision:0.529 / Recall:0.997 / F1:0.691 / ROC:0.498 / Latency:0ms\n"
     ]
    }
   ],
   "source": [
    "evaluate_model('Logstic', model2, X_test, y_test)"
   ]
  },
  {
   "cell_type": "markdown",
   "metadata": {},
   "source": [
    "# Part II: Same approach with time lag"
   ]
  },
  {
   "cell_type": "markdown",
   "metadata": {},
   "source": [
    "#### predict one day lag"
   ]
  },
  {
   "cell_type": "code",
   "execution_count": 153,
   "metadata": {},
   "outputs": [],
   "source": [
    "df1 = pd.read_csv('News_sentiment.csv')\n",
    "df1 = df1.drop(droplist, axis = 1)\n",
    "df1 = df1.drop(['Date', 'Combined'], axis =1)"
   ]
  },
  {
   "cell_type": "code",
   "execution_count": 154,
   "metadata": {},
   "outputs": [],
   "source": [
    "df1['Label'] = df1['Label'].shift(periods = 1)"
   ]
  },
  {
   "cell_type": "code",
   "execution_count": 155,
   "metadata": {},
   "outputs": [],
   "source": [
    "df1 = df1.drop(index = 0)"
   ]
  },
  {
   "cell_type": "code",
   "execution_count": 156,
   "metadata": {},
   "outputs": [],
   "source": [
    "X = df1[['tb_polarity', 'vader_pos', 'vader_neg', 'tb_subjectivity']]\n",
    "y = df1['Label']\n",
    "from sklearn.model_selection import train_test_split\n",
    "X_train1,X_test1, y_train1, y_test1 = train_test_split(X, y, test_size=0.3, random_state=5) #42"
   ]
  },
  {
   "cell_type": "code",
   "execution_count": 157,
   "metadata": {},
   "outputs": [
    {
     "data": {
      "text/plain": [
       "array([0.509     , 0.52396262, 0.51058216])"
      ]
     },
     "execution_count": 157,
     "metadata": {},
     "output_type": "execute_result"
    }
   ],
   "source": [
    "cross_val_score(forest, X_train1, y_train1, cv=3, scoring=\"roc_auc\")"
   ]
  },
  {
   "cell_type": "code",
   "execution_count": 158,
   "metadata": {},
   "outputs": [],
   "source": [
    "model3 = forest.fit(X_train1,y_train1)"
   ]
  },
  {
   "cell_type": "code",
   "execution_count": 136,
   "metadata": {},
   "outputs": [
    {
     "data": {
      "text/plain": [
       "array([[115, 168],\n",
       "       [111, 203]], dtype=int64)"
      ]
     },
     "execution_count": 136,
     "metadata": {},
     "output_type": "execute_result"
    }
   ],
   "source": [
    "from sklearn.metrics import confusion_matrix\n",
    "pred_y = model3.predict(X_test1)\n",
    "conf_mx3 = confusion_matrix(y_test1, pred_y)\n",
    "conf_mx3"
   ]
  },
  {
   "cell_type": "code",
   "execution_count": 137,
   "metadata": {},
   "outputs": [
    {
     "name": "stdout",
     "output_type": "stream",
     "text": [
      "Forest -- Accuracy:0.533 / Precision:0.547 / Recall:0.646 / F1:0.593 / ROC:0.526 / Latency:0ms\n"
     ]
    }
   ],
   "source": [
    "evaluate_model('Forest', model3, X_test1, y_test1)"
   ]
  },
  {
   "cell_type": "code",
   "execution_count": 138,
   "metadata": {},
   "outputs": [],
   "source": [
    "# time lag one day seems to be working"
   ]
  },
  {
   "cell_type": "code",
   "execution_count": 159,
   "metadata": {},
   "outputs": [
    {
     "data": {
      "text/plain": [
       "array([0.47872897, 0.50157009, 0.50206573])"
      ]
     },
     "execution_count": 159,
     "metadata": {},
     "output_type": "execute_result"
    }
   ],
   "source": [
    "cross_val_score(LR, X_train1, y_train1, cv=3, scoring=\"roc_auc\")"
   ]
  },
  {
   "cell_type": "code",
   "execution_count": 160,
   "metadata": {},
   "outputs": [],
   "source": [
    "model4 = LR.fit(X_train1,y_train1)"
   ]
  },
  {
   "cell_type": "code",
   "execution_count": 161,
   "metadata": {},
   "outputs": [
    {
     "data": {
      "text/plain": [
       "array([[  0, 283],\n",
       "       [  0, 314]], dtype=int64)"
      ]
     },
     "execution_count": 161,
     "metadata": {},
     "output_type": "execute_result"
    }
   ],
   "source": [
    "from sklearn.metrics import confusion_matrix\n",
    "pred_y = model4.predict(X_test1)\n",
    "conf_mxLR = confusion_matrix(y_test1, pred_y)\n",
    "conf_mxLR"
   ]
  },
  {
   "cell_type": "code",
   "execution_count": 162,
   "metadata": {},
   "outputs": [
    {
     "name": "stdout",
     "output_type": "stream",
     "text": [
      "Logstic -- Accuracy:0.528 / Precision:0.529 / Recall:0.997 / F1:0.691 / ROC:0.498 / Latency:0ms\n"
     ]
    }
   ],
   "source": [
    "evaluate_model('Logstic', model2, X_test, y_test)"
   ]
  },
  {
   "cell_type": "markdown",
   "metadata": {},
   "source": [
    "#### predit 2 day lag"
   ]
  },
  {
   "cell_type": "code",
   "execution_count": 163,
   "metadata": {},
   "outputs": [],
   "source": [
    "df2 = pd.read_csv('News_sentiment.csv')\n",
    "df2 = df2.drop(droplist, axis = 1)\n",
    "df2 = df2.drop(['Date', 'Combined'], axis =1)\n",
    "df2['Label'] = df2['Label'].shift(periods = 2)\n",
    "df2 = df2.drop(index = [0,1])"
   ]
  },
  {
   "cell_type": "code",
   "execution_count": 164,
   "metadata": {},
   "outputs": [],
   "source": [
    "X = df2[['tb_polarity', 'vader_pos', 'vader_neg', 'tb_subjectivity']]\n",
    "y = df2['Label']\n",
    "from sklearn.model_selection import train_test_split\n",
    "X_train2,X_test2, y_train2, y_test2 = train_test_split(X, y, test_size=0.3, random_state=5) #42"
   ]
  },
  {
   "cell_type": "code",
   "execution_count": 165,
   "metadata": {},
   "outputs": [
    {
     "data": {
      "text/plain": [
       "array([0.47529653, 0.53235184, 0.4982547 ])"
      ]
     },
     "execution_count": 165,
     "metadata": {},
     "output_type": "execute_result"
    }
   ],
   "source": [
    "cross_val_score(forest, X_train2, y_train2, cv=3, scoring=\"roc_auc\")"
   ]
  },
  {
   "cell_type": "code",
   "execution_count": 168,
   "metadata": {},
   "outputs": [
    {
     "data": {
      "text/plain": [
       "array([[118, 162],\n",
       "       [125, 192]], dtype=int64)"
      ]
     },
     "execution_count": 168,
     "metadata": {},
     "output_type": "execute_result"
    }
   ],
   "source": [
    "model5 = forest.fit(X_train2,y_train2)\n",
    "from sklearn.metrics import confusion_matrix\n",
    "pred_y = model5.predict(X_test2)\n",
    "conf_mx5 = confusion_matrix(y_test2, pred_y)\n",
    "conf_mx5"
   ]
  },
  {
   "cell_type": "code",
   "execution_count": 169,
   "metadata": {},
   "outputs": [
    {
     "name": "stdout",
     "output_type": "stream",
     "text": [
      "Forest -- Accuracy:0.519 / Precision:0.542 / Recall:0.606 / F1:0.572 / ROC:0.514 / Latency:0ms\n"
     ]
    }
   ],
   "source": [
    "evaluate_model('Forest', model5, X_test2, y_test2)"
   ]
  },
  {
   "cell_type": "code",
   "execution_count": 170,
   "metadata": {},
   "outputs": [
    {
     "name": "stdout",
     "output_type": "stream",
     "text": [
      "Logstic -- Accuracy:0.528 / Precision:0.529 / Recall:0.991 / F1:0.689 / ROC:0.499 / Latency:0ms\n"
     ]
    }
   ],
   "source": [
    "model6 = LR.fit(X_train2,y_train2)\n",
    "from sklearn.metrics import confusion_matrix\n",
    "pred_y = model6.predict(X_test2)\n",
    "conf_mxLR = confusion_matrix(y_test2, pred_y)\n",
    "conf_mxLR\n",
    "evaluate_model('Logstic', model6, X_test, y_test)"
   ]
  },
  {
   "cell_type": "markdown",
   "metadata": {},
   "source": [
    "#### 3 day lag"
   ]
  },
  {
   "cell_type": "code",
   "execution_count": 172,
   "metadata": {},
   "outputs": [],
   "source": [
    "df3 = pd.read_csv('News_sentiment.csv')\n",
    "df3 = df3.drop(droplist, axis = 1)\n",
    "df3 = df3.drop(['Date', 'Combined'], axis =1)\n",
    "df3['Label'] = df3['Label'].shift(periods = 3)\n",
    "df3 = df3.drop(index = [0,1,2])"
   ]
  },
  {
   "cell_type": "code",
   "execution_count": 173,
   "metadata": {},
   "outputs": [],
   "source": [
    "X = df3[['tb_polarity', 'vader_pos', 'vader_neg', 'tb_subjectivity']]\n",
    "y = df3['Label']\n",
    "from sklearn.model_selection import train_test_split\n",
    "X_train3,X_test3, y_train3, y_test3 = train_test_split(X, y, test_size=0.3, random_state=5) #42"
   ]
  },
  {
   "cell_type": "code",
   "execution_count": 174,
   "metadata": {},
   "outputs": [
    {
     "data": {
      "text/plain": [
       "array([[143, 129],\n",
       "       [137, 187]], dtype=int64)"
      ]
     },
     "execution_count": 174,
     "metadata": {},
     "output_type": "execute_result"
    }
   ],
   "source": [
    "model7 = forest.fit(X_train3,y_train3)\n",
    "from sklearn.metrics import confusion_matrix\n",
    "pred_y = model7.predict(X_test3)\n",
    "conf_mx7 = confusion_matrix(y_test3, pred_y)\n",
    "conf_mx7"
   ]
  },
  {
   "cell_type": "code",
   "execution_count": 175,
   "metadata": {},
   "outputs": [
    {
     "name": "stdout",
     "output_type": "stream",
     "text": [
      "Forest -- Accuracy:0.554 / Precision:0.592 / Recall:0.577 / F1:0.584 / ROC:0.551 / Latency:0ms\n"
     ]
    }
   ],
   "source": [
    "evaluate_model('Forest', model7, X_test3, y_test3)"
   ]
  },
  {
   "cell_type": "code",
   "execution_count": 183,
   "metadata": {},
   "outputs": [
    {
     "name": "stdout",
     "output_type": "stream",
     "text": [
      "Logstic -- Accuracy:0.544 / Precision:0.544 / Recall:1.0 / F1:0.704 / ROC:0.5 / Latency:0ms\n"
     ]
    }
   ],
   "source": [
    "model8 = LR.fit(X_train3,y_train3)\n",
    "from sklearn.metrics import confusion_matrix\n",
    "pred_y = model8.predict(X_test3)\n",
    "conf_mxLR = confusion_matrix(y_test3, pred_y)\n",
    "conf_mxLR\n",
    "evaluate_model('Logstic', model8, X_test3, y_test3)"
   ]
  },
  {
   "cell_type": "code",
   "execution_count": 376,
   "metadata": {},
   "outputs": [
    {
     "name": "stdout",
     "output_type": "stream",
     "text": [
      "Logstic -- Accuracy:0.544 / Precision:0.581 / Recall:0.577 / F1:0.579 / ROC:0.54 / Latency:0ms\n"
     ]
    }
   ],
   "source": [
    "evaluate_model('Logstic', model7, X_test3, y_test3)"
   ]
  },
  {
   "cell_type": "markdown",
   "metadata": {},
   "source": [
    "#### 4 day lag"
   ]
  },
  {
   "cell_type": "code",
   "execution_count": null,
   "metadata": {},
   "outputs": [],
   "source": []
  },
  {
   "cell_type": "code",
   "execution_count": 177,
   "metadata": {},
   "outputs": [],
   "source": [
    "df4 = pd.read_csv('News_sentiment.csv')\n",
    "df4 = df4.drop(droplist, axis = 1)\n",
    "df4 = df4.drop(['Date', 'Combined'], axis =1)\n",
    "df4['Label'] = df4['Label'].shift(periods = 3)\n",
    "df4 = df4.drop(index = [0,1,2])"
   ]
  },
  {
   "cell_type": "code",
   "execution_count": 178,
   "metadata": {},
   "outputs": [],
   "source": [
    "X = df4[['tb_polarity', 'vader_pos', 'vader_neg', 'tb_subjectivity']]\n",
    "y = df4['Label']\n",
    "from sklearn.model_selection import train_test_split\n",
    "X_train4,X_test4, y_train4, y_test4 = train_test_split(X, y, test_size=0.3, random_state=5) #42"
   ]
  },
  {
   "cell_type": "code",
   "execution_count": 179,
   "metadata": {},
   "outputs": [
    {
     "data": {
      "text/plain": [
       "array([[130, 142],\n",
       "       [144, 180]], dtype=int64)"
      ]
     },
     "execution_count": 179,
     "metadata": {},
     "output_type": "execute_result"
    }
   ],
   "source": [
    "model9 = forest.fit(X_train4,y_train4)\n",
    "from sklearn.metrics import confusion_matrix\n",
    "pred_y = model9.predict(X_test4)\n",
    "conf_mx9 = confusion_matrix(y_test4, pred_y)\n",
    "conf_mx9"
   ]
  },
  {
   "cell_type": "code",
   "execution_count": 180,
   "metadata": {},
   "outputs": [
    {
     "name": "stdout",
     "output_type": "stream",
     "text": [
      "Forest -- Accuracy:0.52 / Precision:0.559 / Recall:0.556 / F1:0.557 / ROC:0.517 / Latency:0ms\n"
     ]
    }
   ],
   "source": [
    "evaluate_model('Forest', model9, X_test4, y_test4)"
   ]
  },
  {
   "cell_type": "code",
   "execution_count": 182,
   "metadata": {},
   "outputs": [
    {
     "name": "stdout",
     "output_type": "stream",
     "text": [
      "Logstic -- Accuracy:0.544 / Precision:0.544 / Recall:1.0 / F1:0.704 / ROC:0.5 / Latency:0ms\n"
     ]
    }
   ],
   "source": [
    "model10 = LR.fit(X_train4,y_train4)\n",
    "from sklearn.metrics import confusion_matrix\n",
    "pred_y = model8.predict(X_test4)\n",
    "conf_mxLR = confusion_matrix(y_test4, pred_y)\n",
    "conf_mxLR\n",
    "evaluate_model('Logstic', model10, X_test4, y_test4)"
   ]
  },
  {
   "cell_type": "markdown",
   "metadata": {},
   "source": [
    "#### 5 day lag"
   ]
  },
  {
   "cell_type": "code",
   "execution_count": null,
   "metadata": {},
   "outputs": [],
   "source": []
  },
  {
   "cell_type": "code",
   "execution_count": 184,
   "metadata": {},
   "outputs": [],
   "source": [
    "df5 = pd.read_csv('News_sentiment.csv')\n",
    "df5 = df5.drop(droplist, axis = 1)\n",
    "df5 = df5.drop(['Date', 'Combined'], axis =1)\n",
    "df5['Label'] = df5['Label'].shift(periods = 3)\n",
    "df5 = df5.drop(index = [0,1,2])"
   ]
  },
  {
   "cell_type": "code",
   "execution_count": 185,
   "metadata": {},
   "outputs": [],
   "source": [
    "X = df5[['tb_polarity', 'vader_pos', 'vader_neg', 'tb_subjectivity']]\n",
    "y = df5['Label']\n",
    "from sklearn.model_selection import train_test_split\n",
    "X_train5,X_test5, y_train5, y_test5 = train_test_split(X, y, test_size=0.3, random_state=5) #42"
   ]
  },
  {
   "cell_type": "code",
   "execution_count": 186,
   "metadata": {},
   "outputs": [
    {
     "data": {
      "text/plain": [
       "array([[137, 135],\n",
       "       [137, 187]], dtype=int64)"
      ]
     },
     "execution_count": 186,
     "metadata": {},
     "output_type": "execute_result"
    }
   ],
   "source": [
    "model11 = forest.fit(X_train5,y_train5)\n",
    "from sklearn.metrics import confusion_matrix\n",
    "pred_y = model11.predict(X_test5)\n",
    "conf_mx11 = confusion_matrix(y_test5, pred_y)\n",
    "conf_mx11"
   ]
  },
  {
   "cell_type": "code",
   "execution_count": 187,
   "metadata": {},
   "outputs": [
    {
     "name": "stdout",
     "output_type": "stream",
     "text": [
      "Forest -- Accuracy:0.544 / Precision:0.581 / Recall:0.577 / F1:0.579 / ROC:0.54 / Latency:0ms\n"
     ]
    }
   ],
   "source": [
    "evaluate_model('Forest', model11, X_test5, y_test5)"
   ]
  },
  {
   "cell_type": "code",
   "execution_count": 189,
   "metadata": {},
   "outputs": [
    {
     "name": "stdout",
     "output_type": "stream",
     "text": [
      "Logstic -- Accuracy:0.544 / Precision:0.544 / Recall:1.0 / F1:0.704 / ROC:0.5 / Latency:0ms\n"
     ]
    }
   ],
   "source": [
    "model12 = LR.fit(X_train5,y_train5)\n",
    "from sklearn.metrics import confusion_matrix\n",
    "pred_y = model12.predict(X_test5)\n",
    "conf_mxLR = confusion_matrix(y_test5, pred_y)\n",
    "conf_mxLR\n",
    "evaluate_model('Logstic', model12, X_test5, y_test5)"
   ]
  },
  {
   "cell_type": "markdown",
   "metadata": {},
   "source": [
    "# Conclusion - With purely sentimentscore, the best prediction is for 3 days lag - meaning that the model performs best result when predicting the stock market 3 days later"
   ]
  },
  {
   "cell_type": "markdown",
   "metadata": {},
   "source": [
    "# PART III: adding TFIDFvectorizer as features"
   ]
  },
  {
   "cell_type": "code",
   "execution_count": 197,
   "metadata": {},
   "outputs": [
    {
     "name": "stderr",
     "output_type": "stream",
     "text": [
      "C:\\Users\\hrquc\\Anaconda3\\lib\\site-packages\\sklearn\\utils\\deprecation.py:144: FutureWarning: The sklearn.metrics.scorer module is  deprecated in version 0.22 and will be removed in version 0.24. The corresponding classes / functions should instead be imported from sklearn.metrics. Anything that cannot be imported from sklearn.metrics is now part of the private API.\n",
      "  warnings.warn(message, FutureWarning)\n",
      "C:\\Users\\hrquc\\Anaconda3\\lib\\site-packages\\sklearn\\utils\\deprecation.py:144: FutureWarning: The sklearn.feature_selection.base module is  deprecated in version 0.22 and will be removed in version 0.24. The corresponding classes / functions should instead be imported from sklearn.feature_selection. Anything that cannot be imported from sklearn.feature_selection is now part of the private API.\n",
      "  warnings.warn(message, FutureWarning)\n"
     ]
    }
   ],
   "source": [
    "import eli5\n",
    "import matplotlib.pyplot as plt\n",
    "import numpy as np\n",
    "import sklearn\n",
    "from sklearn import datasets\n",
    "from sklearn.pipeline import FeatureUnion\n",
    "from sklearn.pipeline import Pipeline, make_pipeline\n",
    "from sklearn.base import BaseEstimator, TransformerMixin\n",
    "from sklearn.feature_extraction import DictVectorizer\n",
    "from sklearn.feature_extraction.text import CountVectorizer\n",
    "from sklearn.feature_extraction.text import TfidfVectorizer\n",
    "from sklearn.metrics import confusion_matrix, precision_score, precision_recall_curve, recall_score, f1_score\n",
    "from sklearn.linear_model import LogisticRegression\n",
    "from sklearn.tree import DecisionTreeClassifier"
   ]
  },
  {
   "cell_type": "code",
   "execution_count": 287,
   "metadata": {},
   "outputs": [],
   "source": [
    "dff = pd.read_csv('News_sentiment.csv')\n",
    "dff = dff.drop(droplist, axis = 1)\n",
    "dff = dff.drop(['Date'], axis =1)\n"
   ]
  },
  {
   "cell_type": "code",
   "execution_count": 289,
   "metadata": {},
   "outputs": [
    {
     "data": {
      "text/plain": [
       "'b\\'Why wont America and Nato help us? If they wont help us now, why did we help them in Iraq?\\'_b\\'Bush puts foot down on Georgian conflict\\'_b\"Jewish Georgian minister: Thanks to Israeli training, we\\'re fending off Russia \"_b\\'Georgian army flees in disarray as Russians advance - Gori abandoned to Russia without a shot fired\\'_b\"Olympic opening ceremony fireworks \\'faked\\'\"_b\\'What were the Mossad with fraudulent New Zealand Passports doing in Iraq?\\'_b\\'Russia angered by Israeli military sale to Georgia\\'_b\\'An American citizen living in S.Ossetia blames U.S. and Georgian leaders for the genocide of innocent people\\'_b\\'Welcome To World War IV! Now In High Definition!\\'_b\"Georgia\\'s move, a mistake of monumental proportions \"_b\\'Russia presses deeper into Georgia; U.S. says regime change is goal\\'_b\\'Abhinav Bindra wins first ever Individual Olympic Gold Medal for India\\'_b\\' U.S. ship heads for Arctic to define territory\\'_b\\'Drivers in a Jerusalem taxi station threaten to quit rather than work for their new boss - an Arab\\'_b\\'The French Team is Stunned by Phelps and the 4x100m Relay Team\\'_b\\'Israel and the US behind the Georgian aggression?\\'_b\\'\"Do not believe TV, neither Russian nor Georgian. There are much more victims\"\\'_b\\'Riots are still going on in Montreal (Canada) because police murdered a boy on Saturday.\\'_b\\'China to overtake US as largest manufacturer\\'_b\\'War in South Ossetia [PICS]\\'_b\\'Israeli Physicians Group Condemns State Torture\\'_b\\' Russia has just beaten the United States over the head with Peak Oil\\'_b\\'Perhaps *the* question about the Georgia - Russia conflict \\'_b\\'Russia is so much better at war\\'_b\"So this is what it\\'s come to: trading sex for food.\"'"
      ]
     },
     "execution_count": 289,
     "metadata": {},
     "output_type": "execute_result"
    }
   ],
   "source": [
    "dff['Combined'][1]"
   ]
  },
  {
   "cell_type": "code",
   "execution_count": 285,
   "metadata": {},
   "outputs": [],
   "source": [
    "dff['Combined'][1]"
   ]
  },
  {
   "cell_type": "code",
   "execution_count": 222,
   "metadata": {},
   "outputs": [],
   "source": [
    "#dff = dff.drop(droplist, axis = 1)"
   ]
  },
  {
   "cell_type": "code",
   "execution_count": 195,
   "metadata": {},
   "outputs": [],
   "source": [
    "#dff = dff.drop('Date', axis =1)"
   ]
  },
  {
   "cell_type": "code",
   "execution_count": 225,
   "metadata": {},
   "outputs": [
    {
     "data": {
      "text/html": [
       "<div>\n",
       "<style scoped>\n",
       "    .dataframe tbody tr th:only-of-type {\n",
       "        vertical-align: middle;\n",
       "    }\n",
       "\n",
       "    .dataframe tbody tr th {\n",
       "        vertical-align: top;\n",
       "    }\n",
       "\n",
       "    .dataframe thead th {\n",
       "        text-align: right;\n",
       "    }\n",
       "</style>\n",
       "<table border=\"1\" class=\"dataframe\">\n",
       "  <thead>\n",
       "    <tr style=\"text-align: right;\">\n",
       "      <th></th>\n",
       "      <th>Label</th>\n",
       "      <th>Combined</th>\n",
       "      <th>tb_polarity</th>\n",
       "      <th>tb_subjectivity</th>\n",
       "      <th>vader_pos</th>\n",
       "      <th>vader_neg</th>\n",
       "      <th>vader_comp</th>\n",
       "    </tr>\n",
       "  </thead>\n",
       "  <tbody>\n",
       "    <tr>\n",
       "      <th>3</th>\n",
       "      <td>0.0</td>\n",
       "      <td>b' U.S. refuses Israel weapons to attack Iran:...</td>\n",
       "      <td>0.011398</td>\n",
       "      <td>0.364021</td>\n",
       "      <td>0.048</td>\n",
       "      <td>0.146</td>\n",
       "      <td>-0.9842</td>\n",
       "    </tr>\n",
       "    <tr>\n",
       "      <th>4</th>\n",
       "      <td>1.0</td>\n",
       "      <td>b'All the experts admit that we should legalis...</td>\n",
       "      <td>0.040677</td>\n",
       "      <td>0.375099</td>\n",
       "      <td>0.093</td>\n",
       "      <td>0.174</td>\n",
       "      <td>-0.9774</td>\n",
       "    </tr>\n",
       "    <tr>\n",
       "      <th>5</th>\n",
       "      <td>0.0</td>\n",
       "      <td>b\"Mom of missing gay man: Too bad he's not a 2...</td>\n",
       "      <td>0.047756</td>\n",
       "      <td>0.457692</td>\n",
       "      <td>0.059</td>\n",
       "      <td>0.165</td>\n",
       "      <td>-0.9856</td>\n",
       "    </tr>\n",
       "    <tr>\n",
       "      <th>6</th>\n",
       "      <td>0.0</td>\n",
       "      <td>b'In an Afghan prison, the majority of female ...</td>\n",
       "      <td>0.016759</td>\n",
       "      <td>0.485995</td>\n",
       "      <td>0.042</td>\n",
       "      <td>0.224</td>\n",
       "      <td>-0.9938</td>\n",
       "    </tr>\n",
       "    <tr>\n",
       "      <th>7</th>\n",
       "      <td>1.0</td>\n",
       "      <td>b\"Man arrested and locked up for five hours af...</td>\n",
       "      <td>-0.025814</td>\n",
       "      <td>0.345230</td>\n",
       "      <td>0.056</td>\n",
       "      <td>0.240</td>\n",
       "      <td>-0.9959</td>\n",
       "    </tr>\n",
       "    <tr>\n",
       "      <th>...</th>\n",
       "      <td>...</td>\n",
       "      <td>...</td>\n",
       "      <td>...</td>\n",
       "      <td>...</td>\n",
       "      <td>...</td>\n",
       "      <td>...</td>\n",
       "      <td>...</td>\n",
       "    </tr>\n",
       "    <tr>\n",
       "      <th>1984</th>\n",
       "      <td>0.0</td>\n",
       "      <td>Barclays and RBS shares suspended from trading...</td>\n",
       "      <td>-0.030183</td>\n",
       "      <td>0.358892</td>\n",
       "      <td>0.090</td>\n",
       "      <td>0.151</td>\n",
       "      <td>-0.9683</td>\n",
       "    </tr>\n",
       "    <tr>\n",
       "      <th>1985</th>\n",
       "      <td>1.0</td>\n",
       "      <td>2,500 Scientists To Australia: If You Want To ...</td>\n",
       "      <td>0.047618</td>\n",
       "      <td>0.360663</td>\n",
       "      <td>0.100</td>\n",
       "      <td>0.137</td>\n",
       "      <td>-0.9633</td>\n",
       "    </tr>\n",
       "    <tr>\n",
       "      <th>1986</th>\n",
       "      <td>0.0</td>\n",
       "      <td>Explosion At Airport In Istanbul_Yemeni former...</td>\n",
       "      <td>0.046901</td>\n",
       "      <td>0.406462</td>\n",
       "      <td>0.076</td>\n",
       "      <td>0.209</td>\n",
       "      <td>-0.9968</td>\n",
       "    </tr>\n",
       "    <tr>\n",
       "      <th>1987</th>\n",
       "      <td>0.0</td>\n",
       "      <td>Jamaica proposes marijuana dispensers for tour...</td>\n",
       "      <td>-0.005811</td>\n",
       "      <td>0.392035</td>\n",
       "      <td>0.053</td>\n",
       "      <td>0.211</td>\n",
       "      <td>-0.9978</td>\n",
       "    </tr>\n",
       "    <tr>\n",
       "      <th>1988</th>\n",
       "      <td>1.0</td>\n",
       "      <td>A 117-year-old woman in Mexico City finally re...</td>\n",
       "      <td>-0.036532</td>\n",
       "      <td>0.329966</td>\n",
       "      <td>0.060</td>\n",
       "      <td>0.211</td>\n",
       "      <td>-0.9980</td>\n",
       "    </tr>\n",
       "  </tbody>\n",
       "</table>\n",
       "<p>1986 rows × 7 columns</p>\n",
       "</div>"
      ],
      "text/plain": [
       "      Label                                           Combined  tb_polarity  \\\n",
       "3       0.0  b' U.S. refuses Israel weapons to attack Iran:...     0.011398   \n",
       "4       1.0  b'All the experts admit that we should legalis...     0.040677   \n",
       "5       0.0  b\"Mom of missing gay man: Too bad he's not a 2...     0.047756   \n",
       "6       0.0  b'In an Afghan prison, the majority of female ...     0.016759   \n",
       "7       1.0  b\"Man arrested and locked up for five hours af...    -0.025814   \n",
       "...     ...                                                ...          ...   \n",
       "1984    0.0  Barclays and RBS shares suspended from trading...    -0.030183   \n",
       "1985    1.0  2,500 Scientists To Australia: If You Want To ...     0.047618   \n",
       "1986    0.0  Explosion At Airport In Istanbul_Yemeni former...     0.046901   \n",
       "1987    0.0  Jamaica proposes marijuana dispensers for tour...    -0.005811   \n",
       "1988    1.0  A 117-year-old woman in Mexico City finally re...    -0.036532   \n",
       "\n",
       "      tb_subjectivity  vader_pos  vader_neg  vader_comp  \n",
       "3            0.364021      0.048      0.146     -0.9842  \n",
       "4            0.375099      0.093      0.174     -0.9774  \n",
       "5            0.457692      0.059      0.165     -0.9856  \n",
       "6            0.485995      0.042      0.224     -0.9938  \n",
       "7            0.345230      0.056      0.240     -0.9959  \n",
       "...               ...        ...        ...         ...  \n",
       "1984         0.358892      0.090      0.151     -0.9683  \n",
       "1985         0.360663      0.100      0.137     -0.9633  \n",
       "1986         0.406462      0.076      0.209     -0.9968  \n",
       "1987         0.392035      0.053      0.211     -0.9978  \n",
       "1988         0.329966      0.060      0.211     -0.9980  \n",
       "\n",
       "[1986 rows x 7 columns]"
      ]
     },
     "execution_count": 225,
     "metadata": {},
     "output_type": "execute_result"
    }
   ],
   "source": [
    "dff3"
   ]
  },
  {
   "cell_type": "code",
   "execution_count": 227,
   "metadata": {},
   "outputs": [],
   "source": [
    "texts = dff3['Combined']"
   ]
  },
  {
   "cell_type": "code",
   "execution_count": 242,
   "metadata": {},
   "outputs": [],
   "source": [
    "tfidf = TfidfVectorizer(stop_words = 'english', ngram_range = (2,2))\n",
    "tfidf.fit(texts)\n",
    "X = tfidf.transform(texts)"
   ]
  },
  {
   "cell_type": "code",
   "execution_count": 243,
   "metadata": {},
   "outputs": [],
   "source": [
    "y= dff3['Label']\n"
   ]
  },
  {
   "cell_type": "code",
   "execution_count": 244,
   "metadata": {},
   "outputs": [],
   "source": [
    "from sklearn.model_selection import train_test_split\n",
    "X_train,X_test, y_train, y_test = train_test_split(X, y, test_size=0.3, random_state=5) #42"
   ]
  },
  {
   "cell_type": "code",
   "execution_count": 245,
   "metadata": {},
   "outputs": [
    {
     "data": {
      "text/plain": [
       "array([0.54528418, 0.51219512, 0.4796186 ])"
      ]
     },
     "execution_count": 245,
     "metadata": {},
     "output_type": "execute_result"
    }
   ],
   "source": [
    "from sklearn.ensemble import RandomForestClassifier\n",
    "forest = RandomForestClassifier()\n",
    "cross_val_score(forest, X_train, y_train, cv=3, scoring=\"roc_auc\")"
   ]
  },
  {
   "cell_type": "code",
   "execution_count": 247,
   "metadata": {},
   "outputs": [
    {
     "data": {
      "text/plain": [
       "array([[  7, 265],\n",
       "       [ 10, 314]], dtype=int64)"
      ]
     },
     "execution_count": 247,
     "metadata": {},
     "output_type": "execute_result"
    }
   ],
   "source": [
    "model13 = forest.fit(X_train,y_train)\n",
    "from sklearn.metrics import confusion_matrix\n",
    "pred_y = model13.predict(X_test)\n",
    "conf_mx11 = confusion_matrix(y_test, pred_y)\n",
    "conf_mx11"
   ]
  },
  {
   "cell_type": "markdown",
   "metadata": {},
   "source": [
    "# Since matrix is so sparse, trying l1 regularization with LightGBM"
   ]
  },
  {
   "cell_type": "code",
   "execution_count": 384,
   "metadata": {},
   "outputs": [],
   "source": [
    "from sklearn.pipeline import FeatureUnion\n",
    "from sklearn.decomposition import PCA, TruncatedSVD"
   ]
  },
  {
   "cell_type": "code",
   "execution_count": 397,
   "metadata": {},
   "outputs": [],
   "source": [
    "dfff = pd.read_csv('News_sentiment.csv')\n",
    "dfff = dfff.drop(droplist, axis = 1)\n",
    "dfff = dfff.drop(['Date'], axis =1)\n",
    "X = dfff[['tb_polarity', 'vader_pos', 'vader_neg', 'tb_subjectivity']]\n",
    "y = dfff['Label']"
   ]
  },
  {
   "cell_type": "code",
   "execution_count": 398,
   "metadata": {},
   "outputs": [],
   "source": [
    "texts = dfff['Combined']\n",
    "tfidf = TfidfVectorizer(stop_words = 'english', ngram_range = (1,2))\n",
    "tfidf.fit(texts)\n",
    "X2 = tfidf.transform(texts)"
   ]
  },
  {
   "cell_type": "code",
   "execution_count": 402,
   "metadata": {},
   "outputs": [],
   "source": [
    "from sklearn.model_selection import train_test_split\n",
    "X_train,X_test, y_train, y_test = train_test_split(X2, y, test_size=0.3, random_state=5) #42"
   ]
  },
  {
   "cell_type": "code",
   "execution_count": 403,
   "metadata": {},
   "outputs": [
    {
     "data": {
      "text/plain": [
       "array([[ 53, 228],\n",
       "       [ 58, 258]], dtype=int64)"
      ]
     },
     "execution_count": 403,
     "metadata": {},
     "output_type": "execute_result"
    }
   ],
   "source": [
    "model21 = forest.fit(X_train,y_train)\n",
    "from sklearn.metrics import confusion_matrix\n",
    "pred_y = model21.predict(X_test)\n",
    "conf_mx21 = confusion_matrix(y_test, pred_y)\n",
    "conf_mx21"
   ]
  },
  {
   "cell_type": "code",
   "execution_count": 404,
   "metadata": {},
   "outputs": [
    {
     "data": {
      "text/plain": [
       "<sklearn.metrics._plot.roc_curve.RocCurveDisplay at 0x1e169f65198>"
      ]
     },
     "execution_count": 404,
     "metadata": {},
     "output_type": "execute_result"
    },
    {
     "data": {
      "image/png": "[encoded data removed]",
      "text/plain": [
       "<Figure size 432x288 with 1 Axes>"
      ]
     },
     "metadata": {
      "needs_background": "light"
     },
     "output_type": "display_data"
    }
   ],
   "source": [
    "plot_roc_curve(model21, X_test, y_test)"
   ]
  },
  {
   "cell_type": "code",
   "execution_count": 405,
   "metadata": {},
   "outputs": [],
   "source": [
    "import lightgbm as lgb\n",
    "lgbm = lgb.LGBMClassifier(reg_alpha = 0.1)"
   ]
  },
  {
   "cell_type": "code",
   "execution_count": 400,
   "metadata": {},
   "outputs": [
    {
     "data": {
      "text/plain": [
       "array([0.48320413, 0.44702842, 0.47510535, 0.46130208, 0.49088542])"
      ]
     },
     "execution_count": 400,
     "metadata": {},
     "output_type": "execute_result"
    }
   ],
   "source": [
    "from sklearn.ensemble import RandomForestClassifier\n",
    "cross_val_score(lgbm, X_train, y_train, cv=5, scoring=\"roc_auc\")"
   ]
  },
  {
   "cell_type": "code",
   "execution_count": 406,
   "metadata": {},
   "outputs": [],
   "source": [
    "model15 = lgbm.fit(X_train,y_train)"
   ]
  },
  {
   "cell_type": "code",
   "execution_count": 407,
   "metadata": {},
   "outputs": [
    {
     "data": {
      "text/plain": [
       "array([[104, 177],\n",
       "       [112, 204]], dtype=int64)"
      ]
     },
     "execution_count": 407,
     "metadata": {},
     "output_type": "execute_result"
    }
   ],
   "source": [
    "from sklearn.metrics import confusion_matrix\n",
    "pred_y = model15.predict(X_test)\n",
    "conf_mx11 = confusion_matrix(y_test, pred_y)\n",
    "conf_mx11"
   ]
  },
  {
   "cell_type": "code",
   "execution_count": 408,
   "metadata": {},
   "outputs": [
    {
     "name": "stdout",
     "output_type": "stream",
     "text": [
      "LGBM -- Accuracy:0.516 / Precision:0.535 / Recall:0.646 / F1:0.585 / ROC:0.508 / Latency:0ms\n"
     ]
    }
   ],
   "source": [
    "evaluate_model('LGBM', model15, X_test, y_test)"
   ]
  },
  {
   "cell_type": "code",
   "execution_count": 409,
   "metadata": {},
   "outputs": [
    {
     "data": {
      "text/plain": [
       "<sklearn.metrics._plot.roc_curve.RocCurveDisplay at 0x1e16d4aefd0>"
      ]
     },
     "execution_count": 409,
     "metadata": {},
     "output_type": "execute_result"
    },
    {
     "data": {
      "image/png": "[encoded data removed]",
      "text/plain": [
       "<Figure size 432x288 with 1 Axes>"
      ]
     },
     "metadata": {
      "needs_background": "light"
     },
     "output_type": "display_data"
    }
   ],
   "source": [
    "plot_roc_curve(model15, X_test, y_test)"
   ]
  },
  {
   "cell_type": "code",
   "execution_count": 410,
   "metadata": {},
   "outputs": [],
   "source": [
    "df3 = pd.read_csv('News_sentiment.csv')\n",
    "df3 = df3.drop(droplist, axis = 1)\n",
    "df3 = df3.drop(['Date'], axis =1)\n",
    "df3['Label'] = df3['Label'].shift(periods = 3)\n",
    "df3 = df3.drop(index = [0,1,2])\n",
    "\n",
    "X3 = df3['Combined']\n",
    "y3 = df3['Label']"
   ]
  },
  {
   "cell_type": "code",
   "execution_count": 412,
   "metadata": {},
   "outputs": [],
   "source": [
    "tfidf = TfidfVectorizer(stop_words = 'english', ngram_range = (1,2))\n",
    "X3 = tfidf.fit_transform(X3)"
   ]
  },
  {
   "cell_type": "code",
   "execution_count": null,
   "metadata": {},
   "outputs": [],
   "source": []
  },
  {
   "cell_type": "markdown",
   "metadata": {},
   "source": [
    "# SVD"
   ]
  },
  {
   "cell_type": "code",
   "execution_count": 434,
   "metadata": {},
   "outputs": [],
   "source": [
    "from sklearn.decomposition import TruncatedSVD\n",
    "factors = TruncatedSVD(5).fit_transform(X3)"
   ]
  },
  {
   "cell_type": "code",
   "execution_count": 435,
   "metadata": {},
   "outputs": [],
   "source": [
    "X_train,X_test, y_train, y_test = train_test_split(factors, y3, test_size=0.3, random_state=5) #42"
   ]
  },
  {
   "cell_type": "code",
   "execution_count": 438,
   "metadata": {},
   "outputs": [
    {
     "data": {
      "text/plain": [
       "array([[125, 147],\n",
       "       [142, 182]], dtype=int64)"
      ]
     },
     "execution_count": 438,
     "metadata": {},
     "output_type": "execute_result"
    }
   ],
   "source": [
    "model22 = forest.fit(X_train,y_train)\n",
    "from sklearn.metrics import confusion_matrix\n",
    "pred_y = model22.predict(X_test)\n",
    "conf_mx21 = confusion_matrix(y_test, pred_y)\n",
    "conf_mx21"
   ]
  },
  {
   "cell_type": "code",
   "execution_count": 439,
   "metadata": {},
   "outputs": [
    {
     "name": "stdout",
     "output_type": "stream",
     "text": [
      "RF_SVD -- Accuracy:0.515 / Precision:0.553 / Recall:0.562 / F1:0.557 / ROC:0.511 / Latency:0ms\n"
     ]
    }
   ],
   "source": [
    "evaluate_model('RF_SVD', model22, X_test, y_test)"
   ]
  },
  {
   "cell_type": "code",
   "execution_count": 431,
   "metadata": {},
   "outputs": [
    {
     "data": {
      "text/plain": [
       "<sklearn.metrics._plot.roc_curve.RocCurveDisplay at 0x1e102e69630>"
      ]
     },
     "execution_count": 431,
     "metadata": {},
     "output_type": "execute_result"
    },
    {
     "data": {
      "image/png": "[encoded data removed]",
      "text/plain": [
       "<Figure size 432x288 with 1 Axes>"
      ]
     },
     "metadata": {
      "needs_background": "light"
     },
     "output_type": "display_data"
    }
   ],
   "source": [
    "plot_roc_curve(model22, X_test, y_test)"
   ]
  },
  {
   "cell_type": "code",
   "execution_count": 432,
   "metadata": {},
   "outputs": [
    {
     "data": {
      "text/plain": [
       "array([[109, 163],\n",
       "       [145, 179]], dtype=int64)"
      ]
     },
     "execution_count": 432,
     "metadata": {},
     "output_type": "execute_result"
    }
   ],
   "source": [
    "model23 = lgbm.fit(X_train,y_train)\n",
    "from sklearn.metrics import confusion_matrix\n",
    "pred_y = model23.predict(X_test)\n",
    "conf_mx21 = confusion_matrix(y_test, pred_y)\n",
    "conf_mx21"
   ]
  },
  {
   "cell_type": "code",
   "execution_count": 433,
   "metadata": {},
   "outputs": [
    {
     "name": "stdout",
     "output_type": "stream",
     "text": [
      "RF_SVD -- Accuracy:0.483 / Precision:0.523 / Recall:0.552 / F1:0.538 / ROC:0.477 / Latency:0ms\n"
     ]
    }
   ],
   "source": [
    "evaluate_model('RF_SVD', model23, X_test, y_test)"
   ]
  },
  {
   "cell_type": "code",
   "execution_count": null,
   "metadata": {},
   "outputs": [],
   "source": []
  },
  {
   "cell_type": "markdown",
   "metadata": {},
   "source": [
    "# PCA"
   ]
  },
  {
   "cell_type": "code",
   "execution_count": 440,
   "metadata": {},
   "outputs": [],
   "source": [
    "pca = PCA(20)"
   ]
  },
  {
   "cell_type": "code",
   "execution_count": 442,
   "metadata": {},
   "outputs": [
    {
     "ename": "TypeError",
     "evalue": "PCA does not support sparse input. See TruncatedSVD for a possible alternative.",
     "output_type": "error",
     "traceback": [
      "\u001b[1;31m---------------------------------------------------------------------------\u001b[0m",
      "\u001b[1;31mTypeError\u001b[0m                                 Traceback (most recent call last)",
      "\u001b[1;32m<ipython-input-442-d16bedf0dcf1>\u001b[0m in \u001b[0;36m<module>\u001b[1;34m\u001b[0m\n\u001b[1;32m----> 1\u001b[1;33m \u001b[0mPCAed\u001b[0m \u001b[1;33m=\u001b[0m \u001b[0mpca\u001b[0m\u001b[1;33m.\u001b[0m\u001b[0mfit_transform\u001b[0m\u001b[1;33m(\u001b[0m\u001b[0mX3\u001b[0m\u001b[1;33m)\u001b[0m\u001b[1;33m\u001b[0m\u001b[1;33m\u001b[0m\u001b[0m\n\u001b[0m",
      "\u001b[1;32m~\\Anaconda3\\lib\\site-packages\\sklearn\\decomposition\\_pca.py\u001b[0m in \u001b[0;36mfit_transform\u001b[1;34m(self, X, y)\u001b[0m\n\u001b[0;32m    367\u001b[0m         \u001b[0mC\u001b[0m\u001b[1;33m-\u001b[0m\u001b[0mordered\u001b[0m \u001b[0marray\u001b[0m\u001b[1;33m,\u001b[0m \u001b[0muse\u001b[0m \u001b[1;34m'np.ascontiguousarray'\u001b[0m\u001b[1;33m.\u001b[0m\u001b[1;33m\u001b[0m\u001b[1;33m\u001b[0m\u001b[0m\n\u001b[0;32m    368\u001b[0m         \"\"\"\n\u001b[1;32m--> 369\u001b[1;33m         \u001b[0mU\u001b[0m\u001b[1;33m,\u001b[0m \u001b[0mS\u001b[0m\u001b[1;33m,\u001b[0m \u001b[0mV\u001b[0m \u001b[1;33m=\u001b[0m \u001b[0mself\u001b[0m\u001b[1;33m.\u001b[0m\u001b[0m_fit\u001b[0m\u001b[1;33m(\u001b[0m\u001b[0mX\u001b[0m\u001b[1;33m)\u001b[0m\u001b[1;33m\u001b[0m\u001b[1;33m\u001b[0m\u001b[0m\n\u001b[0m\u001b[0;32m    370\u001b[0m         \u001b[0mU\u001b[0m \u001b[1;33m=\u001b[0m \u001b[0mU\u001b[0m\u001b[1;33m[\u001b[0m\u001b[1;33m:\u001b[0m\u001b[1;33m,\u001b[0m \u001b[1;33m:\u001b[0m\u001b[0mself\u001b[0m\u001b[1;33m.\u001b[0m\u001b[0mn_components_\u001b[0m\u001b[1;33m]\u001b[0m\u001b[1;33m\u001b[0m\u001b[1;33m\u001b[0m\u001b[0m\n\u001b[0;32m    371\u001b[0m \u001b[1;33m\u001b[0m\u001b[0m\n",
      "\u001b[1;32m~\\Anaconda3\\lib\\site-packages\\sklearn\\decomposition\\_pca.py\u001b[0m in \u001b[0;36m_fit\u001b[1;34m(self, X)\u001b[0m\n\u001b[0;32m    385\u001b[0m         \u001b[1;31m# This is more informative than the generic one raised by check_array.\u001b[0m\u001b[1;33m\u001b[0m\u001b[1;33m\u001b[0m\u001b[1;33m\u001b[0m\u001b[0m\n\u001b[0;32m    386\u001b[0m         \u001b[1;32mif\u001b[0m \u001b[0missparse\u001b[0m\u001b[1;33m(\u001b[0m\u001b[0mX\u001b[0m\u001b[1;33m)\u001b[0m\u001b[1;33m:\u001b[0m\u001b[1;33m\u001b[0m\u001b[1;33m\u001b[0m\u001b[0m\n\u001b[1;32m--> 387\u001b[1;33m             raise TypeError('PCA does not support sparse input. See '\n\u001b[0m\u001b[0;32m    388\u001b[0m                             'TruncatedSVD for a possible alternative.')\n\u001b[0;32m    389\u001b[0m \u001b[1;33m\u001b[0m\u001b[0m\n",
      "\u001b[1;31mTypeError\u001b[0m: PCA does not support sparse input. See TruncatedSVD for a possible alternative."
     ]
    }
   ],
   "source": [
    "PCAed = pca.fit_transform(X3)"
   ]
  },
  {
   "cell_type": "code",
   "execution_count": 1,
   "metadata": {},
   "outputs": [],
   "source": [
    "# ok PCA doens't work with sparse matrix"
   ]
  },
  {
   "cell_type": "markdown",
   "metadata": {},
   "source": [
    "# Trying Embedding with Word2Vec"
   ]
  },
  {
   "cell_type": "code",
   "execution_count": 2,
   "metadata": {},
   "outputs": [],
   "source": [
    "import gensim.utils\n",
    "import gensim.downloader as api"
   ]
  },
  {
   "cell_type": "code",
   "execution_count": 6,
   "metadata": {},
   "outputs": [],
   "source": [
    "dfff = pd.read_csv('News_sentiment.csv')\n",
    "droplist = ['Top'+ str(i) for i in range(1,26)]\n",
    "dfff = dfff.drop(droplist, axis = 1)\n",
    "dfff = dfff.drop(['Date'], axis =1)\n",
    "X = dfff['Combined']\n",
    "y = dfff['Label']"
   ]
  },
  {
   "cell_type": "code",
   "execution_count": 15,
   "metadata": {},
   "outputs": [],
   "source": [
    "from sklearn.model_selection import train_test_split\n",
    "X_train,X_test, y_train, y_test = train_test_split(X, y, test_size=0.3, random_state=5) #42"
   ]
  },
  {
   "cell_type": "code",
   "execution_count": 18,
   "metadata": {},
   "outputs": [],
   "source": [
    "X_train.toks = []\n",
    "for s in X_train:\n",
    "    X_train.toks.append(gensim.utils.simple_preprocess(s))\n",
    "X_test.toks = []\n",
    "for s in X_test:\n",
    "    X_test.toks.append(gensim.utils.simple_preprocess(s))"
   ]
  },
  {
   "cell_type": "code",
   "execution_count": 22,
   "metadata": {},
   "outputs": [],
   "source": [
    "from gensim.models.word2vec import Word2Vec\n",
    "model = Word2Vec(X_train.toks, size=100, window=5, min_count=5, workers=4)\n",
    "word_vectors = model.wv\n"
   ]
  },
  {
   "cell_type": "code",
   "execution_count": 49,
   "metadata": {},
   "outputs": [
    {
     "data": {
      "text/plain": [
       "[('metal', 0.9943884611129761),\n",
       " ('mathematics', 0.9943128824234009),\n",
       " ('belt', 0.9939191341400146),\n",
       " ('mortality', 0.9932832717895508),\n",
       " ('inciting', 0.9929698705673218),\n",
       " ('dams', 0.9929454922676086),\n",
       " ('residential', 0.9926624894142151),\n",
       " ('super', 0.992295503616333),\n",
       " ('spills', 0.9921430945396423),\n",
       " ('polio', 0.9920408725738525)]"
      ]
     },
     "execution_count": 49,
     "metadata": {},
     "output_type": "execute_result"
    }
   ],
   "source": [
    "model.wv.most_similar(['plunge'])"
   ]
  },
  {
   "cell_type": "code",
   "execution_count": 7,
   "metadata": {},
   "outputs": [],
   "source": [
    "from gensim.models.word2vec import Word2Vec\n",
    "model = Word2Vec(X)"
   ]
  },
  {
   "cell_type": "code",
   "execution_count": 11,
   "metadata": {},
   "outputs": [
    {
     "data": {
      "text/plain": [
       "<gensim.models.word2vec.Word2Vec at 0x2b944ef0518>"
      ]
     },
     "execution_count": 11,
     "metadata": {},
     "output_type": "execute_result"
    }
   ],
   "source": [
    "model"
   ]
  },
  {
   "cell_type": "code",
   "execution_count": null,
   "metadata": {},
   "outputs": [],
   "source": []
  }
 ],
 "metadata": {
  "kernelspec": {
   "display_name": "Python 3",
   "language": "python",
   "name": "python3"
  },
  "language_info": {
   "codemirror_mode": {
    "name": "ipython",
    "version": 3
   },
   "file_extension": ".py",
   "mimetype": "text/x-python",
   "name": "python",
   "nbconvert_exporter": "python",
   "pygments_lexer": "ipython3",
   "version": "3.7.3"
  }
 },
 "nbformat": 4,
 "nbformat_minor": 2
}
